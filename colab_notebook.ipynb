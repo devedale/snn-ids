{
 "cells": [
  {
   "cell_type": "markdown",
   "metadata": {},
   "source": [
    "# Pipeline di Machine Learning per Cybersecurity\n",
    "\n",
    "Questo notebook orchestra un'intera pipeline di machine learning per un task di classificazione di traffico di rete. Le fasi principali sono:\n",
    "\n",
    "1.  **Generazione Dati**: Creazione di un dataset sintetico.\n",
    "2.  **Preprocessing**: Pulizia e trasformazione dei dati.\n",
    "3.  **Training**: Addestramento di un modello con grid search.\n",
    "4.  **Predizione**: Utilizzo del modello per classificare un nuovo campione.\n",
    "\n",
    "Tutta la logica è contenuta in moduli Python separati (`.py`) per mantere il codice pulito e riutilizzabile."
   ]
  },
  {
   "cell_type": "markdown",
   "metadata": {},
   "source": [
    "## Setup Iniziale\n",
    "\n",
    "Per prima cosa, dobbiamo installare le librerie necessarie. Se stai eseguendo questo notebook in Google Colab, esegui la cella seguente. Se hai già caricato l'intero progetto (con i file `.py`), non dovresti aver bisogno di clonare il repository."
   ]
  },
  {
   "cell_type": "code",
   "execution_count": null,
   "metadata": {},
   "outputs": [],
   "source": [
    "# Installa le dipendenze necessarie\n",
    "!pip install pandas scikit-learn tensorflow faker"
   ]
  },
  {
   "cell_type": "markdown",
   "metadata": {},
   "source": [
    "## Fase 1: Generazione del Dataset Sintetico\n",
    "\n",
    "Importiamo ed eseguiamo lo script che crea il nostro dataset di cybersecurity fittizio. Il file verrà salvato in `data/cybersecurity_data.csv`."
   ]
  },
  {
   "cell_type": "code",
   "execution_count": null,
   "metadata": {},
   "outputs": [],
   "source": [
    "from create_synthetic_data import generate_synthetic_data\n",
    "\n",
    "generate_synthetic_data()"
   ]
  },
  {
   "cell_type": "markdown",
   "metadata": {},
   "source": [
    "## Fase 2: Preprocessing dei Dati\n",
    "\n",
    "Ora eseguiamo il modulo di preprocessing. Questo caricherà i dati, anonimizzerà gli IP e il target, e applicherà il one-hot encoding. Visualizzeremo un'anteprima dei dati processati."
   ]
  },
  {
   "cell_type": "code",
   "execution_count": null,
   "metadata": {},
   "outputs": [],
   "source": [
    "from preprocessing.process import preprocess_data\n",
    "\n",
    "X, y, ip_map, target_map = preprocess_data()\n",
    "\n",
    "if X is not None:\n",
    "    print(\"\\n--- Anteprima Feature (X) ---\")\n",
    "    display(X.head())\n",
    "    print(\"\\n--- Anteprima Target (y) ---\")\n",
    "    display(y.head())"
   ]
  },
  {
   "cell_type": "markdown",
   "metadata": {},
   "source": [
    "## Fase 3: Training del Modello\n",
    "\n",
    "Eseguiamo il training. Lo script eseguirà una grid search per trovare i migliori iperparametri, addestrerà diversi modelli e salverà il migliore in `models/best_model.keras`."
   ]
  },
  {
   "cell_type": "code",
   "execution_count": null,
   "metadata": {},
   "outputs": [],
   "source": [
    "from training.train import train_and_evaluate\n",
    "\n",
    "training_results, best_model_path = train_and_evaluate()"
   ]
  },
  {
   "cell_type": "markdown",
   "metadata": {},
   "source": [
    "## Fase 4: Predizione su un Nuovo Campione\n",
    "\n",
    "Infine, usiamo il modello addestrato per classificare un nuovo campione di dati. Definiamo un campione fittizio e passiamolo alla funzione di predizione."
   ]
  },
  {
   "cell_type": "code",
   "execution_count": null,
   "metadata": {},
   "outputs": [],
   "source": [
    "from prediction.predict import predict\n",
    "\n",
    "# Creiamo un campione di dati fittizio\n",
    "sample = {\n",
    "    \"ip_sorgente\": \"192.168.1.10\",\n",
    "    \"ip_destinazione\": \"10.0.0.5\",\n",
    "    \"porta_sorgente\": 12345,\n",
    "    \"porta_destinazione\": 443,\n",
    "    \"protocollo\": \"UDP\",\n",
    "    \"byte_inviati\": 250,\n",
    "    \"byte_ricevuti\": 1800,\n",
    "    \"pacchetti_inviati\": 8,\n",
    "    \"pacchetti_ricevuti\": 12,\n",
    "}\n",
    "\n",
    "prediction_label = predict(sample)\n",
    "\n",
    "if prediction_label:\n",
    "    print(f\"\\nRISULTATO FINALE: Il campione è stato classificato come: '{prediction_label}'\")"
   ]
  }
 ],
 "metadata": {
  "kernelspec": {
   "display_name": "Python 3",
   "language": "python",
   "name": "python3"
  },
  "language_info": {
   "name": "python",
   "version": "3.9.12"
  }
 },
 "nbformat": 4,
 "nbformat_minor": 4
}
